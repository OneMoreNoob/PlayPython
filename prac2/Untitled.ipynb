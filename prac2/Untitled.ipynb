{
 "cells": [
  {
   "cell_type": "code",
   "execution_count": 1,
   "metadata": {
    "collapsed": false
   },
   "outputs": [
    {
     "name": "stdout",
     "output_type": "stream",
     "text": [
      "Lines: 11\n",
      "Number words (with stopwords): 77\n",
      "Vocabulary size: 24\n",
      "Number of symbols: 324\n",
      "Number of different symbols: 29\n",
      "Words (alphabetical order):\n",
      "\tBacon\t6\n",
      "\tEgg\t8\n",
      "\tLobster\t1\n",
      "\tMornay\t1\n",
      "\tSausage\t1\n",
      "\tSpam\t27\n",
      "\tThermidor\t1\n",
      "\ta\t2\n",
      "\tand\t12\n",
      "\taux\t1\n",
      "\tbaked\t1\n",
      "\tbeans\t1\n",
      "\tbrandy\t1\n",
      "\tcrevettes\t1\n",
      "\tegg\t1\n",
      "\tfried\t1\n",
      "\tgarnished\t1\n",
      "\ton\t1\n",
      "\tpate\t1\n",
      "\tsauce\t1\n",
      "\tsausage\t3\n",
      "\ttop\t1\n",
      "\ttruffle\t1\n",
      "\twith\t2\n",
      "Words (by frequency):\n",
      "\tSpam\t27\n",
      "\tand\t12\n",
      "\tEgg\t8\n",
      "\tBacon\t6\n",
      "\tsausage\t3\n",
      "\ta\t2\n",
      "\twith\t2\n",
      "\tLobster\t1\n",
      "\tMornay\t1\n",
      "\tSausage\t1\n",
      "\tThermidor\t1\n",
      "\taux\t1\n",
      "\tbaked\t1\n",
      "\tbeans\t1\n",
      "\tbrandy\t1\n",
      "\tcrevettes\t1\n",
      "\tegg\t1\n",
      "\tfried\t1\n",
      "\tgarnished\t1\n",
      "\ton\t1\n",
      "\tpate\t1\n",
      "\tsauce\t1\n",
      "\ttop\t1\n",
      "\ttruffle\t1\n",
      "Symbols (alphabetical order):\n",
      "\t B \t 6\n",
      "\t E \t 8\n",
      "\t L \t 1\n",
      "\t M \t 1\n",
      "\t S \t 28\n",
      "\t T \t 1\n",
      "\t a \t 63\n",
      "\t b \t 4\n",
      "\t c \t 8\n",
      "\t d \t 17\n",
      "\t e \t 17\n",
      "\t f \t 3\n",
      "\t g \t 23\n",
      "\t h \t 4\n",
      "\t i \t 5\n",
      "\t k \t 1\n",
      "\t l \t 1\n",
      "\t m \t 28\n",
      "\t n \t 23\n",
      "\t o \t 11\n",
      "\t p \t 29\n",
      "\t r \t 9\n",
      "\t s \t 12\n",
      "\t t \t 8\n",
      "\t u \t 7\n",
      "\t v \t 1\n",
      "\t w \t 2\n",
      "\t x \t 1\n",
      "\t y \t 2\n",
      "Symbols (by frequency):\n",
      "\t a \t 63\n",
      "\t p \t 29\n",
      "\t S \t 28\n",
      "\t m \t 28\n",
      "\t g \t 23\n",
      "\t n \t 23\n",
      "\t d \t 17\n",
      "\t e \t 17\n",
      "\t s \t 12\n",
      "\t o \t 11\n",
      "\t r \t 9\n",
      "\t E \t 8\n",
      "\t c \t 8\n",
      "\t t \t 8\n",
      "\t u \t 7\n",
      "\t B \t 6\n",
      "\t i \t 5\n",
      "\t b \t 4\n",
      "\t h \t 4\n",
      "\t f \t 3\n",
      "\t w \t 2\n",
      "\t y \t 2\n",
      "\t L \t 1\n",
      "\t M \t 1\n",
      "\t T \t 1\n",
      "\t k \t 1\n",
      "\t l \t 1\n",
      "\t v \t 1\n",
      "\t x \t 1\n"
     ]
    }
   ],
   "source": [
    "import SAR_p2_cuenta_palabras_plantilla as SAR\n",
    "\n",
    "test = SAR.text_statistics(\"spam.txt\", False,False)"
   ]
  },
  {
   "cell_type": "code",
   "execution_count": null,
   "metadata": {
    "collapsed": true
   },
   "outputs": [],
   "source": []
  },
  {
   "cell_type": "code",
   "execution_count": null,
   "metadata": {
    "collapsed": true
   },
   "outputs": [],
   "source": []
  },
  {
   "cell_type": "code",
   "execution_count": null,
   "metadata": {
    "collapsed": true
   },
   "outputs": [],
   "source": []
  },
  {
   "cell_type": "code",
   "execution_count": null,
   "metadata": {
    "collapsed": true
   },
   "outputs": [],
   "source": []
  }
 ],
 "metadata": {
  "anaconda-cloud": {},
  "kernelspec": {
   "display_name": "Python [Root]",
   "language": "python",
   "name": "Python [Root]"
  },
  "language_info": {
   "codemirror_mode": {
    "name": "ipython",
    "version": 3
   },
   "file_extension": ".py",
   "mimetype": "text/x-python",
   "name": "python",
   "nbconvert_exporter": "python",
   "pygments_lexer": "ipython3",
   "version": "3.5.1"
  }
 },
 "nbformat": 4,
 "nbformat_minor": 0
}
